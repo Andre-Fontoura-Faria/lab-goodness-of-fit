{
 "cells": [
  {
   "cell_type": "markdown",
   "metadata": {},
   "source": [
    "## Question 1\n",
    "The following table indicates the number of 6-point scores in an American rugby match in the 1979 season.\n",
    "\n",
    "![](table1.png)\n",
    "\n",
    "Based on these results, we create a Poisson distribution with the sample mean parameter  = 2.435. Is there any reason to believe that at a .05 level the number of scores is a Poisson variable?\n",
    "Check [here](https://www.geeksforgeeks.org/how-to-create-a-poisson-probability-mass-function-plot-in-python/) how to create a poisson distribution and how to calculate the expected observations, using the probability mass function (pmf). \n",
    "A Poisson distribution is a discrete probability distribution. It gives the probability of an event happening a certain number of times (k) within a given interval of time or space. The Poisson distribution has only one parameter, λ (lambda), which is the mean number of events."
   ]
  },
  {
   "cell_type": "code",
   "execution_count": 1,
   "metadata": {},
   "outputs": [
    {
     "name": "stdout",
     "output_type": "stream",
     "text": [
      "Chi-squared test statistic: 5.526588649191275\n",
      "Critical chi-squared value: 14.067140449340169\n",
      "P-value: 0.5959787428784399\n",
      "There is no evidence to suggest that the number of scores is not a Poisson variable.\n"
     ]
    }
   ],
   "source": [
    "import numpy as np\n",
    "from scipy.stats import poisson, chi2\n",
    "\n",
    "observed = np.array([35, 99, 104, 110, 62, 25, 10, 3])\n",
    "\n",
    "lambda_param = 2.435\n",
    "\n",
    "# Calculate expected frequencies based on Poisson distribution\n",
    "expected = poisson.pmf(range(len(observed)), mu=lambda_param) * sum(observed)\n",
    "\n",
    "# Calculate chi-squared test statistic\n",
    "chi2_statistic = sum((observed - expected) ** 2 / expected)\n",
    "\n",
    "# Degrees of freedom (number of categories minus 1)\n",
    "df = len(observed) - 1\n",
    "\n",
    "# Calculate critical chi-squared value at alpha=0.05 and given degrees of freedom\n",
    "critical_value = chi2.ppf(0.95, df)\n",
    "\n",
    "# Perform the chi-squared test\n",
    "p_value = 1 - chi2.cdf(chi2_statistic, df)\n",
    "\n",
    "# Print the results\n",
    "print(\"Chi-squared test statistic:\", chi2_statistic)\n",
    "print(\"Critical chi-squared value:\", critical_value)\n",
    "print(\"P-value:\", p_value)\n",
    "\n",
    "# Check if the null hypothesis can be rejected\n",
    "if chi2_statistic > critical_value:\n",
    "    print(\"There is evidence to suggest that the number of scores is not a Poisson variable.\")\n",
    "else:\n",
    "    print(\"There is no evidence to suggest that the number of scores is not a Poisson variable.\")\n",
    "    \n",
    "# Based on the results of the chi-squared test (test statistic = 5.53, p-value = 0.60), there is no significant evidence to reject the null hypothesis that the number of scores follows a Poisson distribution at a significance level of 0.05.\n"
   ]
  },
  {
   "cell_type": "markdown",
   "metadata": {},
   "source": [
    "## Question 2\n",
    "A researcher gathers information about the patterns of Physical Activity of children in the fifth grade of primary school of a public school. He defines three categories of physical activity (Low, Medium, High). He also inquires about the regular consumption of sugary drinks at school, and defines two categories (Yes = consumed, No = not consumed). We would like to evaluate if there is an association between patterns of physical activity and the consumption of sugary drinks for the children of this school, at a level of 5% significance. The results are in the following table: \n",
    "\n",
    "![](table4.png)"
   ]
  },
  {
   "cell_type": "code",
   "execution_count": 3,
   "metadata": {},
   "outputs": [
    {
     "name": "stdout",
     "output_type": "stream",
     "text": [
      "Chi-squared statistic: 10.712198008709638\n",
      "p-value: 0.004719280137040844\n",
      "Degrees of freedom: 2\n",
      "Expected frequencies:\n",
      "[[24.08421053 19.91578947]\n",
      " [19.70526316 16.29473684]\n",
      " [ 8.21052632  6.78947368]]\n"
     ]
    }
   ],
   "source": [
    "observed = np.array([[32, 12],\n",
    "                     [14, 22],\n",
    "                     [6, 9]])\n",
    "\n",
    "chi2, p, dof, expected = chi2_contingency(observed)\n",
    "\n",
    "print(\"Chi-squared statistic:\", chi2)\n",
    "print(\"p-value:\", p)\n",
    "print(\"Degrees of freedom:\", dof)\n",
    "print(\"Expected frequencies:\")\n",
    "print(expected)\n",
    "\n",
    "# Based on the chi-squared statistic of 10.712 and the corresponding p-value of 0.0047, we can conclude that there is a statistically significant association between patterns of physical activity and the consumption of sugary drinks among the fifth-grade children in the public school. The p-value of 0.0047 is less than the significance level of 0.05, indicating strong evidence against the null hypothesis of independence."
   ]
  },
  {
   "cell_type": "code",
   "execution_count": null,
   "metadata": {},
   "outputs": [],
   "source": []
  }
 ],
 "metadata": {
  "kernelspec": {
   "display_name": "Python 3 (ipykernel)",
   "language": "python",
   "name": "python3"
  },
  "language_info": {
   "codemirror_mode": {
    "name": "ipython",
    "version": 3
   },
   "file_extension": ".py",
   "mimetype": "text/x-python",
   "name": "python",
   "nbconvert_exporter": "python",
   "pygments_lexer": "ipython3",
   "version": "3.9.13"
  }
 },
 "nbformat": 4,
 "nbformat_minor": 2
}
